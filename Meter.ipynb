{
 "cells": [
  {
   "cell_type": "code",
   "execution_count": 1,
   "metadata": {},
   "outputs": [],
   "source": [
    "from DataProcessing import encodedShake, code2sonnet\n",
    "import nltk\n",
    "from nltk.corpus import cmudict\n",
    "import random"
   ]
  },
  {
   "cell_type": "code",
   "execution_count": 2,
   "metadata": {},
   "outputs": [],
   "source": [
    "d = cmudict.dict()\n",
    "\n",
    "encodedSonnets, encodedSyllaDict, code2word, punc2code = encodedShake()"
   ]
  },
  {
   "cell_type": "code",
   "execution_count": 3,
   "metadata": {},
   "outputs": [],
   "source": [
    "def Vowel_num(pron):\n",
    "    syl = \"\"\n",
    "    for elem in pron:\n",
    "        if \"1\" in elem or \"2\" in elem: syl += \"1\"\n",
    "        elif \"0\" in elem: syl += \"0\"\n",
    "    return syl\n",
    "\n",
    "def Rhyme(pron):\n",
    "    rhy = \"\"\n",
    "    v = 0\n",
    "    for i in range(len(pron) - 1, -1, -1):\n",
    "        if \"1\" in pron[i] or \"2\" in pron[i] or \"0\" in pron[i]: \n",
    "            v = i\n",
    "            break\n",
    "    for j in range(v, len(pron)):\n",
    "        rhy += pron[j]\n",
    "    return rhy"
   ]
  },
  {
   "cell_type": "code",
   "execution_count": 4,
   "metadata": {},
   "outputs": [],
   "source": [
    "rhyme_dic = {} # dictionary of rhyme\n",
    "syllable_dic = {} # dictionary of syllable (e.g. 1, 0, 10, ...)\n",
    "\n",
    "for i in range(len(code2word)):\n",
    "    single_word = code2word[i]\n",
    "    single_word_syl = []\n",
    "    single_word_rhyme = []\n",
    "    if single_word in d:\n",
    "        for pron in d[single_word]:\n",
    "            single_word_syl.append(Vowel_num(pron)) \n",
    "            single_word_rhyme.append(Rhyme(pron)) \n",
    "        for s in single_word_syl:\n",
    "            if s not in syllable_dic:\n",
    "                syllable_dic[s] = []\n",
    "            if single_word not in syllable_dic[s]:\n",
    "                syllable_dic[s].append(single_word)\n",
    "        for r in single_word_rhyme:\n",
    "            if r not in rhyme_dic:\n",
    "                rhyme_dic[r] = []\n",
    "            if single_word not in rhyme_dic[r]:\n",
    "                rhyme_dic[r].append(single_word)"
   ]
  },
  {
   "cell_type": "code",
   "execution_count": 5,
   "metadata": {},
   "outputs": [],
   "source": [
    "# Generate the last word of rhyme matching the syllable_style\n",
    "\n",
    "rhyme_lastword = []\n",
    "key_list = []\n",
    "key_num = 0\n",
    "syllable_style = \"01010101010\"\n",
    "while key_num < 7:\n",
    "    key = random.choice(list(rhyme_dic.keys()))\n",
    "    if key not in key_list:\n",
    "        if len(rhyme_dic[key]) >= 2:\n",
    "            words = random.sample(rhyme_dic[key], 2)\n",
    "            word_1 = words[0]\n",
    "            word_2 = words[1]\n",
    "            for item in syllable_dic.values():\n",
    "                if word_1 in item:\n",
    "                    syllable_1 = [k for k,v in syllable_dic.items() if v == item][0]\n",
    "                if word_2 in item:\n",
    "                    syllable_2 = [k for k,v in syllable_dic.items() if v == item][0]\n",
    "            if (syllable_1 in syllable_style) & (syllable_2 in syllable_style):\n",
    "                key_list.append(key)\n",
    "                rhyme_lastword.append(words)\n",
    "                key_num = key_num + 1"
   ]
  },
  {
   "cell_type": "code",
   "execution_count": 6,
   "metadata": {},
   "outputs": [
    {
     "data": {
      "text/plain": [
       "[['yore', 'store'],\n",
       " ['near', 'ear'],\n",
       " ['clerk', 'work'],\n",
       " ['blooms', 'perfumes'],\n",
       " ['account', 'count'],\n",
       " ['respects', 'objects'],\n",
       " ['hath', 'bath']]"
      ]
     },
     "execution_count": 6,
     "metadata": {},
     "output_type": "execute_result"
    }
   ],
   "source": [
    "rhyme_lastword"
   ]
  },
  {
   "cell_type": "code",
   "execution_count": 7,
   "metadata": {},
   "outputs": [],
   "source": [
    "# Order the last word in 14 line\n",
    "rhyme_lastword_order = []\n",
    "\n",
    "rhyme_lastword_order.append(rhyme_lastword[0][0])\n",
    "rhyme_lastword_order.append(rhyme_lastword[1][0])\n",
    "rhyme_lastword_order.append(rhyme_lastword[0][1])\n",
    "rhyme_lastword_order.append(rhyme_lastword[1][1])\n",
    "rhyme_lastword_order.append(rhyme_lastword[2][0])\n",
    "rhyme_lastword_order.append(rhyme_lastword[3][0])\n",
    "rhyme_lastword_order.append(rhyme_lastword[2][1])\n",
    "rhyme_lastword_order.append(rhyme_lastword[3][1])\n",
    "rhyme_lastword_order.append(rhyme_lastword[4][0])\n",
    "rhyme_lastword_order.append(rhyme_lastword[5][0])\n",
    "rhyme_lastword_order.append(rhyme_lastword[4][1])\n",
    "rhyme_lastword_order.append(rhyme_lastword[5][1])\n",
    "rhyme_lastword_order.append(rhyme_lastword[6][0])\n",
    "rhyme_lastword_order.append(rhyme_lastword[6][1])"
   ]
  },
  {
   "cell_type": "code",
   "execution_count": 8,
   "metadata": {},
   "outputs": [
    {
     "data": {
      "text/plain": [
       "['yore',\n",
       " 'near',\n",
       " 'store',\n",
       " 'ear',\n",
       " 'clerk',\n",
       " 'blooms',\n",
       " 'work',\n",
       " 'perfumes',\n",
       " 'account',\n",
       " 'respects',\n",
       " 'count',\n",
       " 'objects',\n",
       " 'hath',\n",
       " 'bath']"
      ]
     },
     "execution_count": 8,
     "metadata": {},
     "output_type": "execute_result"
    }
   ],
   "source": [
    "rhyme_lastword_order"
   ]
  },
  {
   "cell_type": "code",
   "execution_count": 9,
   "metadata": {},
   "outputs": [],
   "source": [
    "from HMM_fast_addition import HiddenMarkovModel, unsupervised_HMM"
   ]
  },
  {
   "cell_type": "code",
   "execution_count": 10,
   "metadata": {},
   "outputs": [],
   "source": [
    "# Reverse the encodedSonnets\n",
    "encodedSonnets_reverse = []\n",
    "\n",
    "for a in encodedSonnets:\n",
    "    a.reverse()\n",
    "    encodedSonnets_reverse.append(a)"
   ]
  },
  {
   "cell_type": "code",
   "execution_count": 12,
   "metadata": {},
   "outputs": [
    {
     "name": "stdout",
     "output_type": "stream",
     "text": [
      "Iteration: #  1; Took 0.74s\n",
      "Iteration: #  2; Took 0.75s\n",
      "Iteration: #  3; Took 0.71s\n",
      "Iteration: #  4; Took 0.69s\n",
      "Iteration: #  5; Took 0.70s\n",
      "Iteration: #  6; Took 0.70s\n",
      "Iteration: #  7; Took 0.69s\n",
      "Iteration: #  8; Took 0.68s\n",
      "Iteration: #  9; Took 0.70s\n",
      "Iteration: # 10; Took 0.71s\n",
      "Iteration: # 11; Took 0.69s\n",
      "Iteration: # 12; Took 0.69s\n",
      "Iteration: # 13; Took 0.72s\n",
      "Iteration: # 14; Took 0.69s\n",
      "Iteration: # 15; Took 0.72s\n",
      "Iteration: # 16; Took 0.68s\n",
      "Iteration: # 17; Took 0.74s\n",
      "Iteration: # 18; Took 0.72s\n",
      "Iteration: # 19; Took 0.69s\n",
      "Iteration: # 20; Took 0.68s\n",
      "Iteration: # 21; Took 0.70s\n",
      "Iteration: # 22; Took 0.70s\n",
      "Iteration: # 23; Took 0.70s\n",
      "Iteration: # 24; Took 0.69s\n",
      "Iteration: # 25; Took 0.69s\n",
      "Iteration: # 26; Took 0.76s\n",
      "Iteration: # 27; Took 0.72s\n",
      "Iteration: # 28; Took 0.73s\n",
      "Iteration: # 29; Took 0.74s\n",
      "Iteration: # 30; Took 0.74s\n",
      "Iteration: # 31; Took 0.68s\n",
      "Iteration: # 32; Took 0.70s\n",
      "Iteration: # 33; Took 0.70s\n",
      "Iteration: # 34; Took 0.80s\n",
      "Iteration: # 35; Took 0.71s\n",
      "Iteration: # 36; Took 0.69s\n",
      "Iteration: # 37; Took 0.70s\n",
      "Iteration: # 38; Took 0.76s\n",
      "Iteration: # 39; Took 0.75s\n",
      "Iteration: # 40; Took 0.70s\n",
      "Iteration: # 41; Took 0.69s\n",
      "Iteration: # 42; Took 0.70s\n",
      "Iteration: # 43; Took 0.73s\n",
      "Iteration: # 44; Took 0.71s\n",
      "Iteration: # 45; Took 0.71s\n",
      "Iteration: # 46; Took 0.72s\n",
      "Iteration: # 47; Took 0.70s\n",
      "Iteration: # 48; Took 0.71s\n",
      "Iteration: # 49; Took 0.72s\n",
      "Iteration: # 50; Took 0.70s\n",
      "Iteration: # 51; Took 0.72s\n",
      "Iteration: # 52; Took 0.70s\n",
      "Iteration: # 53; Took 0.71s\n",
      "Iteration: # 54; Took 0.71s\n",
      "Iteration: # 55; Took 0.71s\n",
      "Iteration: # 56; Took 0.72s\n",
      "Iteration: # 57; Took 0.72s\n",
      "Iteration: # 58; Took 0.71s\n",
      "Iteration: # 59; Took 0.71s\n",
      "Iteration: # 60; Took 0.71s\n",
      "Iteration: # 61; Took 0.73s\n",
      "Iteration: # 62; Took 0.72s\n",
      "Iteration: # 63; Took 0.71s\n",
      "Iteration: # 64; Took 0.72s\n",
      "Iteration: # 65; Took 0.73s\n",
      "Iteration: # 66; Took 0.71s\n",
      "Iteration: # 67; Took 0.73s\n",
      "Iteration: # 68; Took 0.73s\n",
      "Iteration: # 69; Took 0.72s\n",
      "Iteration: # 70; Took 0.71s\n",
      "Iteration: # 71; Took 0.71s\n",
      "Iteration: # 72; Took 0.72s\n",
      "Iteration: # 73; Took 0.72s\n",
      "Iteration: # 74; Took 0.73s\n",
      "Iteration: # 75; Took 0.73s\n",
      "Iteration: # 76; Took 0.71s\n",
      "Iteration: # 77; Took 0.72s\n",
      "Iteration: # 78; Took 0.73s\n",
      "Iteration: # 79; Took 0.73s\n",
      "Iteration: # 80; Took 0.74s\n",
      "Iteration: # 81; Took 0.73s\n",
      "Iteration: # 82; Took 0.73s\n",
      "Iteration: # 83; Took 0.74s\n",
      "Iteration: # 84; Took 0.71s\n",
      "Iteration: # 85; Took 0.73s\n",
      "Iteration: # 86; Took 0.73s\n",
      "Iteration: # 87; Took 0.81s\n",
      "Iteration: # 88; Took 0.75s\n",
      "Iteration: # 89; Took 0.74s\n",
      "Iteration: # 90; Took 0.74s\n",
      "Iteration: # 91; Took 0.72s\n",
      "Iteration: # 92; Took 0.73s\n",
      "Iteration: # 93; Took 0.73s\n",
      "Iteration: # 94; Took 0.73s\n",
      "Iteration: # 95; Took 0.73s\n",
      "Iteration: # 96; Took 0.77s\n",
      "Iteration: # 97; Took 0.83s\n",
      "Iteration: # 98; Took 0.83s\n",
      "Iteration: # 99; Took 0.75s\n",
      "Iteration: #100; Took 0.72s\n"
     ]
    }
   ],
   "source": [
    "# Train the HMM using the reversed encodedSonnets and return A and O\n",
    "\n",
    "A,O = unsupervised_HMM(encodedSonnets_reverse, 20, 100)"
   ]
  },
  {
   "cell_type": "code",
   "execution_count": 14,
   "metadata": {},
   "outputs": [],
   "source": [
    "# Generate the 14 line in the reverse order (the first word of each line is of rhyme),each line matchs \"010101010101\"\n",
    "# Return emissions, state and word_count (the number of words in each line)\n",
    "\n",
    "import numpy as np\n",
    "\n",
    "def generate_14line_s(A,O,rhyme_lastword_order,syllable_dic):\n",
    "    O = np.asarray(O)\n",
    "    A = np.asarray(A)\n",
    "    emission = []\n",
    "    states = []\n",
    "    word_count = np.zeros(14)\n",
    "    \n",
    "    for line in range(14):\n",
    "        syllable_count = 0\n",
    "        syllable_style = \"010101010101\"\n",
    "        syllable_style_str = \"\"\n",
    "        syllable_style_curr = \"\"\n",
    "        emission_initial = rhyme_lastword_order[line]\n",
    "        emission_initial_id = [k for k,v in code2word.items() if v == emission_initial][0]\n",
    "        emission.append(emission_initial_id)\n",
    "        state_initial_maxlikelihood = np.where(O == np.max(O[:,emission_initial_id]))[0][0]\n",
    "        states.append(state_initial_maxlikelihood)\n",
    "        \n",
    "        state_gen = state_initial_maxlikelihood\n",
    "        \n",
    "        for item in syllable_dic.values():\n",
    "            if emission_initial in item:\n",
    "                syllable_style_curr = [k for k,v in syllable_dic.items() if v == item][0]\n",
    "                \n",
    "        syllable_style_str = syllable_style_str + syllable_style_curr\n",
    "        \n",
    "        syllable_count = syllable_count + len(syllable_style_curr)\n",
    "        word_c_line = 1\n",
    "        \n",
    "        while syllable_count < 10:\n",
    "            ran = random.uniform(0, 1)\n",
    "            A_row = A[state_gen]\n",
    "            for j in range(len(A_row)):\n",
    "                ran = ran - A_row[j]\n",
    "                if ran <= 1e-6:\n",
    "                    break\n",
    "            state_gen = j\n",
    "            states.append(state_gen)\n",
    "            \n",
    "            syllable_style_curr = \"2\"\n",
    "            while syllable_style_str + syllable_style_curr not in syllable_style:\n",
    "                ran = random.uniform(0, 1)\n",
    "                O_row = O[state_gen]\n",
    "                for j in range(len(O_row)):\n",
    "                    ran = ran - O_row[j]\n",
    "                    if ran <= 1e-6:\n",
    "                        break\n",
    "                #emission.append(j)\n",
    "                word = code2word[j]\n",
    "                \n",
    "                for item in syllable_dic.values():\n",
    "                    if word in item:\n",
    "                        syllable_style_curr = [k for k,v in syllable_dic.items() if v == item][0]\n",
    "            \n",
    "            emission.append(j)\n",
    "            syllable_style_str = syllable_style_str + syllable_style_curr\n",
    "            syllable_count = syllable_count + len(syllable_style_curr)\n",
    "            #print(syllable_style_str)\n",
    "            word_c_line = word_c_line + 1\n",
    "        #print(word_c_line)\n",
    "            \n",
    "        word_count[line] = word_c_line\n",
    "    word_count = word_count.astype(int)\n",
    "    return emission,states,word_count"
   ]
  },
  {
   "cell_type": "code",
   "execution_count": 15,
   "metadata": {},
   "outputs": [],
   "source": [
    "emission,states,word_count = generate_14line_s(A,O,rhyme_lastword_order,syllable_dic)"
   ]
  },
  {
   "cell_type": "code",
   "execution_count": 16,
   "metadata": {},
   "outputs": [
    {
     "name": "stdout",
     "output_type": "stream",
     "text": [
      "a sound contented profane sort can yore\n",
      "exceeded wood imperfect deserved near\n",
      "creation removed unstained annoy store\n",
      "remove invoked cup familiar forgot ear\n",
      "alas oppressed shake ghastly another clerk\n",
      "deserves boat desired excel unused blooms\n",
      "deserving recite enough believe work\n",
      "subdued unswayed transport outstripped perfumes\n",
      "towers informer wood's untainted account\n",
      "delayed subdued help with afar respects\n",
      "proceeds exchanged excel content advance count\n",
      "enfeebled disease decree prevent objects\n",
      "settled external proposed profane hath\n",
      "hunted imprisoned account alone bath\n"
     ]
    }
   ],
   "source": [
    "# Print each line in the reverse order\n",
    "start = 0\n",
    "for line in range(14):\n",
    "    end = start + word_count[line]\n",
    "    emission_line = emission[start:end]\n",
    "    emission_line.reverse()\n",
    "    print(' '.join(code2sonnet(emission_line, code2word)))\n",
    "    start = end"
   ]
  },
  {
   "cell_type": "code",
   "execution_count": null,
   "metadata": {},
   "outputs": [],
   "source": []
  }
 ],
 "metadata": {
  "kernelspec": {
   "display_name": "Python 3",
   "language": "python",
   "name": "python3"
  },
  "language_info": {
   "codemirror_mode": {
    "name": "ipython",
    "version": 3
   },
   "file_extension": ".py",
   "mimetype": "text/x-python",
   "name": "python",
   "nbconvert_exporter": "python",
   "pygments_lexer": "ipython3",
   "version": "3.6.7"
  }
 },
 "nbformat": 4,
 "nbformat_minor": 2
}
